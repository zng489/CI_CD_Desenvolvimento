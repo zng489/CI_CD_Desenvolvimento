{
 "cells": [
  {
   "cell_type": "code",
   "execution_count": 2,
   "metadata": {},
   "outputs": [
    {
     "name": "stdout",
     "output_type": "stream",
     "text": [
      "Mensagem enviada com sucesso!\n"
     ]
    }
   ],
   "source": [
    "import requests\n",
    "import json\n",
    "\n",
    "# URL do webhook do Discord\n",
    "webhook_url = 'https://discord.com/api/webhooks/1285654063169540156/NnZO27R4tdxsJp-j9fDa8cOjcGIg1l7sGzm_sZs95E4KY7D360CR8UOVo6Omyyxk4zOv'\n",
    "\n",
    "# Mensagem que você quer enviar\n",
    "message = {\n",
    "    \"content\": \"Sua mensagem aqui!\"\n",
    "}\n",
    "\n",
    "# Enviando a requisição POST para o webhook\n",
    "response = requests.post(webhook_url, data=json.dumps(message), headers={'Content-Type': 'application/json'})\n",
    "\n",
    "# Verificando se a requisição foi bem-sucedida\n",
    "if response.status_code == 204:\n",
    "    print(\"Mensagem enviada com sucesso!\")\n",
    "else:\n",
    "    print(f\"Falha ao enviar mensagem. Status Code: {response.status_code}\")"
   ]
  },
  {
   "cell_type": "code",
   "execution_count": 1,
   "metadata": {},
   "outputs": [
    {
     "name": "stdout",
     "output_type": "stream",
     "text": [
      "Em Desenvolvimento...\n"
     ]
    }
   ],
   "source": [
    "print(\"Em Desenvolvimento...\")"
   ]
  },
  {
   "cell_type": "code",
   "execution_count": 4,
   "metadata": {},
   "outputs": [],
   "source": [
    "import sys\n",
    "\n",
    "def Testing():\n",
    "    print(\"Em Desenvolvimento...\")\n",
    "    sys.exit()\n",
    "    return\n",
    "\n"
   ]
  },
  {
   "cell_type": "code",
   "execution_count": null,
   "metadata": {},
   "outputs": [],
   "source": []
  }
 ],
 "metadata": {
  "kernelspec": {
   "display_name": "worker",
   "language": "python",
   "name": "python3"
  },
  "language_info": {
   "codemirror_mode": {
    "name": "ipython",
    "version": 3
   },
   "file_extension": ".py",
   "mimetype": "text/x-python",
   "name": "python",
   "nbconvert_exporter": "python",
   "pygments_lexer": "ipython3",
   "version": "3.12.9"
  }
 },
 "nbformat": 4,
 "nbformat_minor": 2
}
